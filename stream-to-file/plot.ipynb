{
 "cells": [
  {
   "cell_type": "markdown",
   "source": [
    "Plotting SuperMuSR data\n",
    "***********************\n",
    "The way to work with this data is by changing the values in the first cell of this notebook, you shouldn't need to change the rest, a plot should appear in a pop out window using matplotlib. If sample_rate is found in the data then it will use the sample_rate to calculate sample time, otherwise it will just display the value of the sample number.\n",
    "\n",
    "Values:\n",
    "- filename -> Needs to be a path to a valid .h5 file either absolute or relative to the location of this .ipynb file.\n",
    "- frame -> The instance frame that needs to be plotted (Optional, but only if you give a timestamp)\n",
    "- timestamp -> If the frame is not given, this is required, otherwise it will not be used. It expects ISO8601 UTC, https://www.iso.org/iso-8601-date-and-time-format.html\n",
    "- channels -> It's a list of channels to plot, it is likely these are detectors. There are multiples of 8 channels present in most of the files tested with this."
   ],
   "metadata": {
    "collapsed": false
   }
  },
  {
   "cell_type": "code",
   "execution_count": 1,
   "metadata": {
    "collapsed": true
   },
   "outputs": [],
   "source": [
    "# These values are set here and used further down\n",
    "filename = \"trace-Tue 26 Jul 10-57-38 BST 2022.h5\"\n",
    "frame = 400 # Expected if plot_frame is True, alternatively use a timestamp\n",
    "timestamp = \"2022-07-26T10:09:12.890\" # Expected in ISO8601 UTC (Note: the data takes into consideration nanoseconds)\n",
    "channels = [0, 1, 2, 3, 4, 5, 6, 7] # A list of channels to plot, first value is 0, last value is size-1"
   ]
  },
  {
   "cell_type": "code",
   "execution_count": 2,
   "outputs": [],
   "source": [
    "import h5py\n",
    "import dateutil.parser as dp\n",
    "\n",
    "data = h5py.File(filename, 'r')\n",
    "detector_data = data['detector_data']\n",
    "seconds_list = data['frame_timestamp']['seconds']\n",
    "nanoseconds_list = data['frame_timestamp']['nanoseconds']\n",
    "frame_list = data['frame_start_index']\n",
    "if \"/sample_rate\" in data:\n",
    "    sample_rate = data['sample_rate'][()]\n",
    "else:\n",
    "    sample_rate = None\n",
    "\n",
    "# Ensure that the frame is set, and if not then try find it from the timestamp\n",
    "if frame is None:\n",
    "    if timestamp is None:\n",
    "        raise Exception(\"If frame is None, timestamp needs to be given for the frame otherwise we can't determine the frame to output\")\n",
    "    else:\n",
    "        timestamp_seconds = dp.parse(timestamp).timestamp() # Convert timestamp to seconds + nanoseconds\n",
    "        # Work out the frame from the timestamp\n",
    "        for index in range(0, len(seconds_list)-1):\n",
    "            first = seconds_list[index] + nanoseconds_list[index] * 1e-9\n",
    "            second = seconds_list[index+1] + nanoseconds_list[index+1] * 1e-9\n",
    "            if first < timestamp_seconds <= second:\n",
    "                frame = index\n",
    "                break\n",
    "\n",
    "if frame is None:\n",
    "    raise Exception(\"Frame was not set, and the frame could not be found from input data\")"
   ],
   "metadata": {
    "collapsed": false
   }
  },
  {
   "cell_type": "code",
   "execution_count": 3,
   "outputs": [],
   "source": [
    "# Grab the frame's data\n",
    "lower_limit = frame_list[frame]\n",
    "upper_limit = frame_list[frame+1]\n",
    "frame_data_list = []\n",
    "for channel in channels:\n",
    "    frame_data_list.append(detector_data[channel][lower_limit:upper_limit])"
   ],
   "metadata": {
    "collapsed": false
   }
  },
  {
   "cell_type": "code",
   "execution_count": 4,
   "outputs": [],
   "source": [
    "# Generate the x-axis from the frame and the sample_rate\n",
    "# The x axis is sample_time, sample time (s) = sample number (1) / sample rate (1/s\n",
    "if sample_rate is not None:\n",
    "    x_axis_time = []\n",
    "    for index in range(0, len(frame_data_list[0])):\n",
    "        x_axis_time.append(index / sample_rate)\n",
    "else:\n",
    "    x_axis_time = None"
   ],
   "metadata": {
    "collapsed": false
   }
  },
  {
   "cell_type": "code",
   "execution_count": 5,
   "outputs": [
    {
     "data": {
      "text/plain": "Text(0, 0.5, 'intensity')"
     },
     "execution_count": 5,
     "metadata": {},
     "output_type": "execute_result"
    }
   ],
   "source": [
    "%matplotlib qt\n",
    "import matplotlib.pyplot as plt\n",
    "\n",
    "fig, ax = plt.subplots()\n",
    "\n",
    "for frame, channel in zip(frame_data_list, channels):\n",
    "    if x_axis_time is not None:\n",
    "        line = ax.plot(x_axis_time, frame)\n",
    "    else:\n",
    "        line = ax.plot(frame)\n",
    "    line[0].set_label(f\"Channel {channel}\")\n",
    "legend = ax.legend()\n",
    "if legend:\n",
    "    legend.set_draggable(True)\n",
    "ax.set_title(timestamp)\n",
    "ax.set_xlabel(\"sample\")\n",
    "ax.set_ylabel(\"intensity\")\n"
   ],
   "metadata": {
    "collapsed": false
   }
  }
 ],
 "metadata": {
  "kernelspec": {
   "display_name": "Python 3",
   "language": "python",
   "name": "python3"
  },
  "language_info": {
   "codemirror_mode": {
    "name": "ipython",
    "version": 2
   },
   "file_extension": ".py",
   "mimetype": "text/x-python",
   "name": "python",
   "nbconvert_exporter": "python",
   "pygments_lexer": "ipython2",
   "version": "2.7.6"
  }
 },
 "nbformat": 4,
 "nbformat_minor": 0
}
